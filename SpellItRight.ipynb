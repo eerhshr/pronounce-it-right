{
 "cells": [
  {
   "cell_type": "code",
   "execution_count": 89,
   "id": "ac06a6bd-6ee8-46ff-a0e1-1bd9b8e0c313",
   "metadata": {},
   "outputs": [],
   "source": [
    "!pip install g2p_en gTTS pydub gradio  -q"
   ]
  },
  {
   "cell_type": "code",
   "execution_count": 90,
   "id": "06a4ebcd-6996-4b78-af60-084cb38d8578",
   "metadata": {},
   "outputs": [],
   "source": [
    "from g2p_en import G2p\n",
    "from gtts import gTTS\n",
    "import gradio as gr"
   ]
  },
  {
   "cell_type": "code",
   "execution_count": 91,
   "id": "df28b7b5-d797-4cd5-9e84-4fe4f1515ed2",
   "metadata": {},
   "outputs": [],
   "source": [
    "ARPABET_TO_ENGLISH = {\n",
    "    \"AH\": \"uh\", \"AE\": \"a\", \"EH\": \"eh\", \"IH\": \"ih\", \"IY\": \"ee\", \"EY\": \"ay\",\n",
    "    \"OW\": \"oh\", \"AO\": \"aw\", \"ER\": \"er\", \"UH\": \"oo\", \"UW\": \"oo\",\n",
    "    \"AY\": \"eye\", \"AW\": \"ow\", \"OY\": \"oy\",\n",
    "    \"B\": \"b\", \"CH\": \"ch\", \"D\": \"d\", \"DH\": \"th\", \"F\": \"f\", \"G\": \"g\",\n",
    "    \"HH\": \"h\", \"JH\": \"j\", \"K\": \"k\", \"L\": \"l\", \"M\": \"m\", \"N\": \"n\",\n",
    "    \"NG\": \"ng\", \"P\": \"p\", \"R\": \"r\", \"S\": \"s\", \"SH\": \"sh\", \"T\": \"t\",\n",
    "    \"TH\": \"th\", \"V\": \"v\", \"W\": \"w\", \"Y\": \"y\", \"Z\": \"z\", \"ZH\": \"zh\"\n",
    "}"
   ]
  },
  {
   "cell_type": "code",
   "execution_count": 92,
   "id": "792e6933-f712-4bba-ac33-7ade85d7bd33",
   "metadata": {},
   "outputs": [],
   "source": [
    "def phonemes_to_readable(phonemes):\n",
    "    readable_parts = []\n",
    "    \n",
    "    for phoneme in phonemes:\n",
    "        '''The numbers in phonemes (like EH2, AH0, AO1) represent stress marks in ARPAbet phonetic symbols. \n",
    "        These indicate the primary (1), secondary (2), or unstressed (0) emphasis placed on certain syllables when spoken.'''\n",
    "        phoneme_without_stress = ''\n",
    "        for char in phoneme:\n",
    "            if not char.isdigit():\n",
    "                phoneme_without_stress += char\n",
    "\n",
    "        if phoneme_without_stress != \" \":\n",
    "            readable_part = ARPABET_TO_ENGLISH.get(phoneme_without_stress, phoneme_without_stress.lower())\n",
    "            readable_parts.append(readable_part)\n",
    "            \n",
    "    readable_string = \"-\".join(readable_parts)\n",
    "    return readable_string"
   ]
  },
  {
   "cell_type": "code",
   "execution_count": 93,
   "id": "514557f4-5c4d-4f61-8bef-6b4f5254b825",
   "metadata": {},
   "outputs": [],
   "source": [
    "def generate_pronounciation(word):\n",
    "    g2p = G2p()\n",
    "    phonemes = g2p(word)\n",
    "    # print(phonemes)\n",
    "    return phonemes_to_readable(phonemes)"
   ]
  },
  {
   "cell_type": "code",
   "execution_count": 94,
   "id": "9e123b1b-8e9c-4062-8483-b81c35feb5b5",
   "metadata": {},
   "outputs": [
    {
     "name": "stdin",
     "output_type": "stream",
     "text": [
      "Type word: almond\n"
     ]
    }
   ],
   "source": [
    "word = input('Type word:')"
   ]
  },
  {
   "cell_type": "code",
   "execution_count": 95,
   "id": "2b4e8e73-53c4-4e19-bbf5-7809b5e02f8e",
   "metadata": {},
   "outputs": [
    {
     "name": "stdout",
     "output_type": "stream",
     "text": [
      "Readable pronunciation: aa-m-uh-n-d\n"
     ]
    }
   ],
   "source": [
    "print(\"Readable pronunciation:\", generate_pronounciation(word))"
   ]
  },
  {
   "cell_type": "markdown",
   "id": "d47410d7-800d-4a28-8205-67c0d75d3e3f",
   "metadata": {},
   "source": [
    "### Using Gradio"
   ]
  },
  {
   "cell_type": "code",
   "execution_count": 96,
   "id": "cba3083b-a7c6-4caf-9b75-867c97c092d8",
   "metadata": {},
   "outputs": [
    {
     "name": "stdout",
     "output_type": "stream",
     "text": [
      "* Running on local URL:  http://127.0.0.1:7865\n",
      "\n",
      "To create a public link, set `share=True` in `launch()`.\n"
     ]
    },
    {
     "data": {
      "text/html": [
       "<div><iframe src=\"http://127.0.0.1:7865/\" width=\"100%\" height=\"500\" allow=\"autoplay; camera; microphone; clipboard-read; clipboard-write;\" frameborder=\"0\" allowfullscreen></iframe></div>"
      ],
      "text/plain": [
       "<IPython.core.display.HTML object>"
      ]
     },
     "metadata": {},
     "output_type": "display_data"
    },
    {
     "data": {
      "text/plain": []
     },
     "execution_count": 96,
     "metadata": {},
     "output_type": "execute_result"
    }
   ],
   "source": [
    "custom_theme = gr.Theme(primary_hue=\"blue\")\n",
    "\n",
    "gr.Interface(\n",
    "    fn=generate_pronounciation, \n",
    "    inputs=\"text\", \n",
    "    outputs=\"text\",\n",
    "    #allow_flagging=\"never\",\n",
    "    theme=custom_theme,\n",
    ").launch()"
   ]
  }
 ],
 "metadata": {
  "kernelspec": {
   "display_name": "Python 3 (ipykernel)",
   "language": "python",
   "name": "python3"
  },
  "language_info": {
   "codemirror_mode": {
    "name": "ipython",
    "version": 3
   },
   "file_extension": ".py",
   "mimetype": "text/x-python",
   "name": "python",
   "nbconvert_exporter": "python",
   "pygments_lexer": "ipython3",
   "version": "3.12.1"
  }
 },
 "nbformat": 4,
 "nbformat_minor": 5
}
